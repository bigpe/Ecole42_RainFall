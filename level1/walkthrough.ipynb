{
 "cells": [
  {
   "cell_type": "code",
   "execution_count": 1,
   "metadata": {},
   "outputs": [],
   "source": [
    "import os\n",
    "import sys\n",
    "bool('Ressources' in os.getcwd()) if sys.path.append(\"../\") else sys.path.append(\"../..\")\n",
    "from utils.ssh import exec, connect, exec_in_stream, exec_stream\n",
    "from utils.text import print_output, print_title\n",
    "from utils.base import save_token"
   ]
  },
  {
   "cell_type": "code",
   "execution_count": 2,
   "metadata": {},
   "outputs": [
    {
     "name": "stdout",
     "output_type": "stream",
     "text": [
      "\u001B[33mConnect to level0\u001B[39m\n",
      "\u001B[36mExecute command: \u001B[39m\u001B[32msshpass -p level0 ssh level0@10.211.55.19 -p 4242 -oStrictHostKeyChecking=no\u001B[39m\n"
     ]
    }
   ],
   "source": [
    "client = connect('level0', 'level0')"
   ]
  },
  {
   "cell_type": "code",
   "execution_count": 3,
   "metadata": {},
   "outputs": [
    {
     "name": "stdout",
     "output_type": "stream",
     "text": [
      "\u001B[33mGet files list\u001B[39m\n",
      "\u001B[36mExecute command: \u001B[39m\u001B[32mls\u001B[39m\n",
      "Files: \u001B[35mlevel0\u001B[39m\n",
      "\u001B[33mTest this file\u001B[39m\n"
     ]
    }
   ],
   "source": [
    "files_list = exec(client, 'ls', title='Get files list')\n",
    "print_output(files_list, 'Files')\n",
    "print_title('Test this file')"
   ]
  },
  {
   "cell_type": "code",
   "execution_count": 4,
   "metadata": {},
   "outputs": [
    {
     "name": "stdout",
     "output_type": "stream",
     "text": [
      "\u001B[33mSimple execute binary\u001B[39m\n",
      "\u001B[36mExecute command: \u001B[39m\u001B[32m./level0\u001B[39m\n",
      "\u001B[33mNothing happened\u001B[39m\n"
     ]
    }
   ],
   "source": [
    "output = exec(client, './level0', err=True, title='Simple execute binary')\n",
    "print_output(output, 'Output')\n",
    "print_title('Nothing happened')"
   ]
  },
  {
   "cell_type": "code",
   "execution_count": 5,
   "metadata": {},
   "outputs": [
    {
     "name": "stdout",
     "output_type": "stream",
     "text": [
      "\u001B[33mSimple execute binary\u001B[39m\n",
      "\u001B[36mExecute command: \u001B[39m\u001B[32m./level0 test\u001B[39m\n",
      "Output: \u001B[35mNo !\u001B[39m\n",
      "\u001B[33mOkay, expected another args, lets find it\u001B[39m\n",
      "\u001B[33mDebug Time\u001B[39m\n"
     ]
    }
   ],
   "source": [
    "output = exec(client, './level0 test', err=True, title='Simple execute binary')\n",
    "print_output(output, 'Output')\n",
    "print_title('Okay, expected another args, lets find it')\n",
    "print_title('Debug Time')"
   ]
  },
  {
   "cell_type": "code",
   "execution_count": 6,
   "metadata": {},
   "outputs": [
    {
     "name": "stdout",
     "output_type": "stream",
     "text": [
      "\u001B[33mGet structure of main\u001B[39m\n",
      "\u001B[36mExecute command: \u001B[39m\u001B[32mecho \"disass main\" | gdb ./level0 -q\u001B[39m\n",
      "\u001B[35mReading symbols from /home/user/level0/level0...(no debugging symbols found)...done.\u001B[39m\n",
      "\u001B[35m(gdb) Dump of assembler code for function main:\u001B[39m\n",
      "\u001B[35m0x08048ec0 <+0>:\tpush   %ebp\u001B[39m\n",
      "\u001B[35m0x08048ec1 <+1>:\tmov    %esp,%ebp\u001B[39m\n",
      "\u001B[35m0x08048ec3 <+3>:\tand    $0xfffffff0,%esp\u001B[39m\n",
      "\u001B[35m0x08048ec6 <+6>:\tsub    $0x20,%esp\u001B[39m\n",
      "\u001B[35m0x08048ec9 <+9>:\tmov    0xc(%ebp),%eax\u001B[39m\n",
      "\u001B[35m0x08048ecc <+12>:\tadd    $0x4,%eax\u001B[39m\n",
      "\u001B[35m0x08048ecf <+15>:\tmov    (%eax),%eax\u001B[39m\n",
      "\u001B[35m0x08048ed1 <+17>:\tmov    %eax,(%esp)\u001B[39m\n",
      "\u001B[35m0x08048ed4 <+20>:\tcall   0x8049710 <atoi>\u001B[39m\n",
      "\u001B[35m0x08048ed9 <+25>:\tcmp    $0x1a7,%eax\u001B[39m\n",
      "\u001B[35m0x08048ede <+30>:\tjne    0x8048f58 <main+152>\u001B[39m\n",
      "\u001B[35m0x08048ee0 <+32>:\tmovl   $0x80c5348,(%esp)\u001B[39m\n",
      "\u001B[35m0x08048ee7 <+39>:\tcall   0x8050bf0 <strdup>\u001B[39m\n",
      "\u001B[35m0x08048eec <+44>:\tmov    %eax,0x10(%esp)\u001B[39m\n",
      "\u001B[35m0x08048ef0 <+48>:\tmovl   $0x0,0x14(%esp)\u001B[39m\n",
      "\u001B[35m0x08048ef8 <+56>:\tcall   0x8054680 <getegid>\u001B[39m\n",
      "\u001B[35m0x08048efd <+61>:\tmov    %eax,0x1c(%esp)\u001B[39m\n",
      "\u001B[35m0x08048f01 <+65>:\tcall   0x8054670 <geteuid>\u001B[39m\n",
      "\u001B[35m0x08048f06 <+70>:\tmov    %eax,0x18(%esp)\u001B[39m\n",
      "\u001B[35m0x08048f0a <+74>:\tmov    0x1c(%esp),%eax\u001B[39m\n",
      "\u001B[35m0x08048f0e <+78>:\tmov    %eax,0x8(%esp)\u001B[39m\n",
      "\u001B[35m0x08048f12 <+82>:\tmov    0x1c(%esp),%eax\u001B[39m\n",
      "\u001B[35m0x08048f16 <+86>:\tmov    %eax,0x4(%esp)\u001B[39m\n",
      "\u001B[35m0x08048f1a <+90>:\tmov    0x1c(%esp),%eax\u001B[39m\n",
      "\u001B[35m0x08048f1e <+94>:\tmov    %eax,(%esp)\u001B[39m\n",
      "\u001B[35m0x08048f21 <+97>:\tcall   0x8054700 <setresgid>\u001B[39m\n",
      "\u001B[35m0x08048f26 <+102>:\tmov    0x18(%esp),%eax\u001B[39m\n",
      "\u001B[35m0x08048f2a <+106>:\tmov    %eax,0x8(%esp)\u001B[39m\n",
      "\u001B[35m0x08048f2e <+110>:\tmov    0x18(%esp),%eax\u001B[39m\n",
      "\u001B[35m0x08048f32 <+114>:\tmov    %eax,0x4(%esp)\u001B[39m\n",
      "\u001B[35m0x08048f36 <+118>:\tmov    0x18(%esp),%eax\u001B[39m\n",
      "\u001B[35m0x08048f3a <+122>:\tmov    %eax,(%esp)\u001B[39m\n",
      "\u001B[35m0x08048f3d <+125>:\tcall   0x8054690 <setresuid>\u001B[39m\n",
      "\u001B[35m0x08048f42 <+130>:\tlea    0x10(%esp),%eax\u001B[39m\n",
      "\u001B[35m0x08048f46 <+134>:\tmov    %eax,0x4(%esp)\u001B[39m\n",
      "\u001B[35m0x08048f4a <+138>:\tmovl   $0x80c5348,(%esp)\u001B[39m\n",
      "\u001B[35m0x08048f51 <+145>:\tcall   0x8054640 <execv>\u001B[39m\n",
      "\u001B[35m0x08048f56 <+150>:\tjmp    0x8048f80 <main+192>\u001B[39m\n",
      "\u001B[35m0x08048f58 <+152>:\tmov    0x80ee170,%eax\u001B[39m\n",
      "\u001B[35m0x08048f5d <+157>:\tmov    %eax,%edx\u001B[39m\n",
      "\u001B[35m0x08048f5f <+159>:\tmov    $0x80c5350,%eax\u001B[39m\n",
      "\u001B[35m0x08048f64 <+164>:\tmov    %edx,0xc(%esp)\u001B[39m\n",
      "\u001B[35m0x08048f68 <+168>:\tmovl   $0x5,0x8(%esp)\u001B[39m\n",
      "\u001B[35m0x08048f70 <+176>:\tmovl   $0x1,0x4(%esp)\u001B[39m\n",
      "\u001B[35m0x08048f78 <+184>:\tmov    %eax,(%esp)\u001B[39m\n",
      "\u001B[35m0x08048f7b <+187>:\tcall   0x804a230 <fwrite>\u001B[39m\n",
      "\u001B[35m0x08048f80 <+192>:\tmov    $0x0,%eax\u001B[39m\n",
      "\u001B[35m0x08048f85 <+197>:\tleave\u001B[39m\n",
      "\u001B[35m0x08048f86 <+198>:\tret\u001B[39m\n",
      "\u001B[35mEnd of assembler dump.\u001B[39m\n",
      "\u001B[35m(gdb) quit\u001B[39m\n",
      "\u001B[33mMany interesting things, cut a little\u001B[39m\n"
     ]
    }
   ],
   "source": [
    "main_structure = exec(client, 'echo \"disass main\" | gdb ./level0 -q', title='Get structure of main')\n",
    "print_output(main_structure)\n",
    "print_title('Many interesting things, cut a little')"
   ]
  },
  {
   "cell_type": "code",
   "execution_count": 7,
   "metadata": {},
   "outputs": [
    {
     "name": "stdout",
     "output_type": "stream",
     "text": [
      "\u001B[35m0x08048ed4 <+20>:\tcall   0x8049710 <atoi>\u001B[39m\n",
      "\u001B[35m0x08048ed9 <+25>:\tcmp    $0x1a7,%eax\u001B[39m\n",
      "\u001B[35m0x08048ee7 <+39>:\tcall   0x8050bf0 <strdup>\u001B[39m\n",
      "\u001B[35m0x08048ef8 <+56>:\tcall   0x8054680 <getegid>\u001B[39m\n",
      "\u001B[35m0x08048f01 <+65>:\tcall   0x8054670 <geteuid>\u001B[39m\n",
      "\u001B[35m0x08048f21 <+97>:\tcall   0x8054700 <setresgid>\u001B[39m\n",
      "\u001B[35m0x08048f3d <+125>:\tcall   0x8054690 <setresuid>\u001B[39m\n",
      "\u001B[35m0x08048f51 <+145>:\tcall   0x8054640 <execv>\u001B[39m\n",
      "\u001B[35m0x08048f7b <+187>:\tcall   0x804a230 <fwrite>\u001B[39m\n",
      "\u001B[33mFunc get arg, call atoi to reformat it and call cmp to compare it with 0x1a7(423)\u001B[39m\n",
      "\u001B[33mLater execute command or write error\u001B[39m\n",
      "\u001B[33mOkay, we obtained the answer - 423 (compare), send it to our binary\u001B[39m\n"
     ]
    }
   ],
   "source": [
    "for line in main_structure:\n",
    "    if 'call' in line or 'cmp' in line:\n",
    "        print_output(line)\n",
    "print_title('Func get arg, call atoi to reformat it and call cmp to compare it with 0x1a7(423)')\n",
    "print_title('Later execute command or write error')\n",
    "print_title('Okay, we obtained the answer - 423 (compare), send it to our binary')"
   ]
  },
  {
   "cell_type": "code",
   "execution_count": 8,
   "metadata": {},
   "outputs": [
    {
     "name": "stdout",
     "output_type": "stream",
     "text": [
      "\u001B[33mExecute binary with expected arg\u001B[39m\n",
      "\u001B[36mExecute command: \u001B[39m\u001B[32msshpass -p level0 ssh level0@10.211.55.19 -p 4242 -oStrictHostKeyChecking=no ./level0 423\u001B[39m\n",
      "\u001B[33mOkay, stdin intercepted, shell? Check it out\u001B[39m\n",
      "\u001B[33mTry to call whoami\u001B[39m\n",
      "Current user: \u001B[35mlevel1\u001B[39m\n",
      "\u001B[33mLevel1, nice, find anything in home dir\u001B[39m\n"
     ]
    }
   ],
   "source": [
    "stream = exec_stream('./level0 423', title='Execute binary with expected arg',\n",
    "                     stdin=True, stdout=True, password='level0')\n",
    "print_title('Okay, stdin intercepted, shell? Check it out')\n",
    "output = exec_in_stream(stream, 'whoami', title='Try to call whoami')\n",
    "print_output(output, 'Current user')\n",
    "print_title('Level1, nice, find anything in home dir')"
   ]
  },
  {
   "cell_type": "code",
   "execution_count": 9,
   "metadata": {},
   "outputs": [
    {
     "name": "stdout",
     "output_type": "stream",
     "text": [
      "\u001B[36mExecute command: \u001B[39m\u001B[32msshpass -p level0 ssh level0@10.211.55.19 -p 4242 -oStrictHostKeyChecking=no ./level0 423\u001B[39m\n",
      "\u001B[33mShow home dir files\u001B[39m\n",
      "\u001B[35mtotal 17\n",
      "dr-xr-x---+ 1 level1 level1   80 Mar  6  2016 .\n",
      "dr-x--x--x  1 root   root    340 Sep 23  2015 ..\n",
      "-rw-r--r--  1 level1 level1  220 Apr  3  2012 .bash_logout\n",
      "-rw-r--r--  1 level1 level1 3530 Sep 23  2015 .bashrc\n",
      "-rw-r--r--+ 1 level1 level1   65 Sep 23  2015 .pass\n",
      "-rw-r--r--  1 level1 level1  675 Apr  3  2012 .profile\n",
      "-rwsr-s---+ 1 level2 users  5138 Mar  6  2016 level1\u001B[39m\n",
      "\u001B[33m.pass file, got it\u001B[39m\n"
     ]
    }
   ],
   "source": [
    "stream = exec_stream('./level0 423', stdin=True, stdout=True, password='level0')\n",
    "output = exec_in_stream(stream, 'ls -la /home/user/level1', title='Show home dir files')\n",
    "print_output(output)\n",
    "print_title('.pass file, got it')"
   ]
  },
  {
   "cell_type": "code",
   "execution_count": 10,
   "metadata": {},
   "outputs": [
    {
     "name": "stdout",
     "output_type": "stream",
     "text": [
      "\u001B[36mExecute command: \u001B[39m\u001B[32msshpass -p level0 ssh level0@10.211.55.19 -p 4242 -oStrictHostKeyChecking=no ./level0 423\u001B[39m\n",
      "\u001B[33mRead .pass file\u001B[39m\n",
      "File content: \u001B[35m1fe8a524fa4bec01ca4ea2a869af2a02260d4a7d5fe7e7c24d8617e6dca12d3a\u001B[39m\n",
      "\u001B[33mWoo-hoo!\u001B[39m\n"
     ]
    }
   ],
   "source": [
    "stream = exec_stream('./level0 423', stdin=True, stdout=True, password='level0')\n",
    "token = exec_in_stream(stream, 'cat /home/user/level1/.pass', title='Read .pass file')\n",
    "print_output(token, 'File content')\n",
    "print_title('Woo-hoo!')"
   ]
  },
  {
   "cell_type": "code",
   "execution_count": 11,
   "metadata": {},
   "outputs": [
    {
     "name": "stdout",
     "output_type": "stream",
     "text": [
      "Token to next level: \u001B[35m1fe8a524fa4bec01ca4ea2a869af2a02260d4a7d5fe7e7c24d8617e6dca12d3a\u001B[39m\n"
     ]
    }
   ],
   "source": [
    "save_token(token, client)"
   ]
  },
  {
   "cell_type": "code",
   "execution_count": null,
   "metadata": {},
   "outputs": [],
   "source": []
  }
 ],
 "metadata": {
  "kernelspec": {
   "display_name": "Python 3 (ipykernel)",
   "language": "python",
   "name": "python3"
  },
  "language_info": {
   "codemirror_mode": {
    "name": "ipython",
    "version": 3
   },
   "file_extension": ".py",
   "mimetype": "text/x-python",
   "name": "python",
   "nbconvert_exporter": "python",
   "pygments_lexer": "ipython3",
   "version": "3.9.7"
  }
 },
 "nbformat": 4,
 "nbformat_minor": 2
}