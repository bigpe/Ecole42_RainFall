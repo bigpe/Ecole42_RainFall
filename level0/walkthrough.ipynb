{
 "cells": [
  {
   "cell_type": "code",
   "execution_count": 1,
   "id": "66d9a9ed",
   "metadata": {},
   "outputs": [
    {
     "name": "stdout",
     "output_type": "stream",
     "text": [
      "Connect to level0\n",
      "Execute command: sshpass -p level0 ssh level0@192.168.31.115 -p 4242 -oStrictHostKeyChecking=no\n"
     ]
    }
   ],
   "source": [
    "import sys\n",
    "\n",
    "sys.path.append(\"..\")\n",
    "\n",
    "from utils.ssh import exec, connect, exec_in_stream, exec_stream, save_token\n",
    "from utils.text import print_output, print_title\n",
    "\n",
    "client = connect('level0', 'level0')"
   ]
  },
  {
   "cell_type": "code",
   "execution_count": 2,
   "id": "a7d041c2",
   "metadata": {},
   "outputs": [
    {
     "name": "stdout",
     "output_type": "stream",
     "text": [
      "Get files list\n",
      "Execute command: ls\n",
      "Files: level0\n",
      "Test this file\n"
     ]
    }
   ],
   "source": [
    "files_list = exec(client, 'ls', title='Get files list')\n",
    "print_output(files_list, 'Files')\n",
    "print_title('Test this file')"
   ]
  },
  {
   "cell_type": "code",
   "execution_count": 3,
   "id": "b7ab57aa",
   "metadata": {},
   "outputs": [
    {
     "name": "stdout",
     "output_type": "stream",
     "text": [
      "Simple execute binary\n",
      "Execute command: ./level0\n",
      "Nothing happened\n"
     ]
    }
   ],
   "source": [
    "output = exec(client, './level0', err=True, title='Simple execute binary')\n",
    "print_output(output, 'Output')\n",
    "print_title('Nothing happened')"
   ]
  },
  {
   "cell_type": "code",
   "execution_count": 4,
   "id": "66774c7b",
   "metadata": {},
   "outputs": [
    {
     "name": "stdout",
     "output_type": "stream",
     "text": [
      "Simple execute binary\n",
      "Execute command: ./level0 test\n",
      "Output: No !\n",
      "Okay, expected another args, lets find it\n",
      "Debug Time\n"
     ]
    }
   ],
   "source": [
    "output = exec(client, './level0 test', err=True, title='Simple execute binary')\n",
    "print_output(output, 'Output')\n",
    "print_title('Okay, expected another args, lets find it')\n",
    "print_title('Debug Time')"
   ]
  },
  {
   "cell_type": "code",
   "execution_count": 5,
   "id": "551d7714",
   "metadata": {},
   "outputs": [
    {
     "name": "stdout",
     "output_type": "stream",
     "text": [
      "Get structure of main\n",
      "Execute command: echo \"disass main\" | gdb ./level0 -q\n",
      "Reading symbols from /home/user/level0/level0...(no debugging symbols found)...done.\n",
      "(gdb) Dump of assembler code for function main:\n",
      "0x08048ec0 <+0>:\tpush   %ebp\n",
      "0x08048ec1 <+1>:\tmov    %esp,%ebp\n",
      "0x08048ec3 <+3>:\tand    $0xfffffff0,%esp\n",
      "0x08048ec6 <+6>:\tsub    $0x20,%esp\n",
      "0x08048ec9 <+9>:\tmov    0xc(%ebp),%eax\n",
      "0x08048ecc <+12>:\tadd    $0x4,%eax\n",
      "0x08048ecf <+15>:\tmov    (%eax),%eax\n",
      "0x08048ed1 <+17>:\tmov    %eax,(%esp)\n",
      "0x08048ed4 <+20>:\tcall   0x8049710 <atoi>\n",
      "0x08048ed9 <+25>:\tcmp    $0x1a7,%eax\n",
      "0x08048ede <+30>:\tjne    0x8048f58 <main+152>\n",
      "0x08048ee0 <+32>:\tmovl   $0x80c5348,(%esp)\n",
      "0x08048ee7 <+39>:\tcall   0x8050bf0 <strdup>\n",
      "0x08048eec <+44>:\tmov    %eax,0x10(%esp)\n",
      "0x08048ef0 <+48>:\tmovl   $0x0,0x14(%esp)\n",
      "0x08048ef8 <+56>:\tcall   0x8054680 <getegid>\n",
      "0x08048efd <+61>:\tmov    %eax,0x1c(%esp)\n",
      "0x08048f01 <+65>:\tcall   0x8054670 <geteuid>\n",
      "0x08048f06 <+70>:\tmov    %eax,0x18(%esp)\n",
      "0x08048f0a <+74>:\tmov    0x1c(%esp),%eax\n",
      "0x08048f0e <+78>:\tmov    %eax,0x8(%esp)\n",
      "0x08048f12 <+82>:\tmov    0x1c(%esp),%eax\n",
      "0x08048f16 <+86>:\tmov    %eax,0x4(%esp)\n",
      "0x08048f1a <+90>:\tmov    0x1c(%esp),%eax\n",
      "0x08048f1e <+94>:\tmov    %eax,(%esp)\n",
      "0x08048f21 <+97>:\tcall   0x8054700 <setresgid>\n",
      "0x08048f26 <+102>:\tmov    0x18(%esp),%eax\n",
      "0x08048f2a <+106>:\tmov    %eax,0x8(%esp)\n",
      "0x08048f2e <+110>:\tmov    0x18(%esp),%eax\n",
      "0x08048f32 <+114>:\tmov    %eax,0x4(%esp)\n",
      "0x08048f36 <+118>:\tmov    0x18(%esp),%eax\n",
      "0x08048f3a <+122>:\tmov    %eax,(%esp)\n",
      "0x08048f3d <+125>:\tcall   0x8054690 <setresuid>\n",
      "0x08048f42 <+130>:\tlea    0x10(%esp),%eax\n",
      "0x08048f46 <+134>:\tmov    %eax,0x4(%esp)\n",
      "0x08048f4a <+138>:\tmovl   $0x80c5348,(%esp)\n",
      "0x08048f51 <+145>:\tcall   0x8054640 <execv>\n",
      "0x08048f56 <+150>:\tjmp    0x8048f80 <main+192>\n",
      "0x08048f58 <+152>:\tmov    0x80ee170,%eax\n",
      "0x08048f5d <+157>:\tmov    %eax,%edx\n",
      "0x08048f5f <+159>:\tmov    $0x80c5350,%eax\n",
      "0x08048f64 <+164>:\tmov    %edx,0xc(%esp)\n",
      "0x08048f68 <+168>:\tmovl   $0x5,0x8(%esp)\n",
      "0x08048f70 <+176>:\tmovl   $0x1,0x4(%esp)\n",
      "0x08048f78 <+184>:\tmov    %eax,(%esp)\n",
      "0x08048f7b <+187>:\tcall   0x804a230 <fwrite>\n",
      "0x08048f80 <+192>:\tmov    $0x0,%eax\n",
      "0x08048f85 <+197>:\tleave\n",
      "0x08048f86 <+198>:\tret\n",
      "End of assembler dump.\n",
      "(gdb) quit\n",
      "Many interesting things, cut a little\n"
     ]
    }
   ],
   "source": [
    "main_structure = exec(client, 'echo \"disass main\" | gdb ./level0 -q', title='Get structure of main')\n",
    "print_output(main_structure)\n",
    "print_title('Many interesting things, cut a little')"
   ]
  },
  {
   "cell_type": "code",
   "execution_count": 6,
   "id": "d5dddc4b",
   "metadata": {},
   "outputs": [
    {
     "name": "stdout",
     "output_type": "stream",
     "text": [
      "0x08048ed4 <+20>:\tcall   0x8049710 <atoi>\n",
      "0x08048ed9 <+25>:\tcmp    $0x1a7,%eax\n",
      "0x08048ee7 <+39>:\tcall   0x8050bf0 <strdup>\n",
      "0x08048ef8 <+56>:\tcall   0x8054680 <getegid>\n",
      "0x08048f01 <+65>:\tcall   0x8054670 <geteuid>\n",
      "0x08048f21 <+97>:\tcall   0x8054700 <setresgid>\n",
      "0x08048f3d <+125>:\tcall   0x8054690 <setresuid>\n",
      "0x08048f51 <+145>:\tcall   0x8054640 <execv>\n",
      "0x08048f7b <+187>:\tcall   0x804a230 <fwrite>\n",
      "Func get arg, call atoi to reformat it and call cmp to compare it with 0x1a7(423)\n",
      "Later execute command and write file\n",
      "Okay, we obtained the answer - 423 (compare), send it to our binary\n"
     ]
    }
   ],
   "source": [
    "for line in main_structure:\n",
    "    if 'call' in line or 'cmp' in line:\n",
    "        print_output(line)\n",
    "print_title('Func get arg, call atoi to reformat it and call cmp to compare it with 0x1a7(423)')\n",
    "print_title('Later execute command or write error')\n",
    "print_title('Okay, we obtained the answer - 423 (compare), send it to our binary')"
   ]
  },
  {
   "cell_type": "code",
   "execution_count": 7,
   "id": "641fe487",
   "metadata": {},
   "outputs": [
    {
     "name": "stdout",
     "output_type": "stream",
     "text": [
      "Execute binary with expected arg\n",
      "Execute command: sshpass -p level0 ssh level0@192.168.31.115 -p 4242 -oStrictHostKeyChecking=no ./level0 423\n",
      "Okay, stdin intercepted, shell? Check it out\n",
      "Try to call whoami\n",
      "Current user: level1\n",
      "Level1, nice, find anything in home dir\n"
     ]
    }
   ],
   "source": [
    "stream = exec_stream('./level0 423', title='Execute binary with expected arg',\n",
    "                     stdin=True, stdout=True, password='level0')\n",
    "print_title('Okay, stdin intercepted, shell? Check it out')\n",
    "output = exec_in_stream(stream, 'whoami', title='Try to call whoami')\n",
    "print_output(output, 'Current user')\n",
    "print_title('Level1, nice, find anything in home dir')"
   ]
  },
  {
   "cell_type": "code",
   "execution_count": 8,
   "id": "030044db",
   "metadata": {},
   "outputs": [
    {
     "name": "stdout",
     "output_type": "stream",
     "text": [
      "Execute command: sshpass -p level0 ssh level0@192.168.31.115 -p 4242 -oStrictHostKeyChecking=no ./level0 423\n",
      "Show home dir files\n",
      "total 17\n",
      "dr-xr-x---+ 1 level1 level1   80 Mar  6  2016 .\n",
      "dr-x--x--x  1 root   root    340 Sep 23  2015 ..\n",
      "-rw-r--r--  1 level1 level1  220 Apr  3  2012 .bash_logout\n",
      "-rw-r--r--  1 level1 level1 3530 Sep 23  2015 .bashrc\n",
      "-rwsr-s---+ 1 level2 users  5138 Mar  6  2016 level1\n",
      "-rw-r--r--+ 1 level1 level1   65 Sep 23  2015 .pass\n",
      "-rw-r--r--  1 level1 level1  675 Apr  3  2012 .profile\n",
      ".pass file, it was written in main fun at step 187, read this\n"
     ]
    }
   ],
   "source": [
    "stream = exec_stream('./level0 423', stdin=True, stdout=True, password='level0')\n",
    "output = exec_in_stream(stream, 'ls -la /home/user/level1', title='Show home dir files')\n",
    "print_output(output)\n",
    "print_title('.pass file, got it')"
   ]
  },
  {
   "cell_type": "code",
   "execution_count": 9,
   "id": "97c35501",
   "metadata": {},
   "outputs": [
    {
     "name": "stdout",
     "output_type": "stream",
     "text": [
      "Execute command: sshpass -p level0 ssh level0@192.168.31.115 -p 4242 -oStrictHostKeyChecking=no ./level0 423\n",
      "Read .pass file\n",
      "File content: 1fe8a524fa4bec01ca4ea2a869af2a02260d4a7d5fe7e7c24d8617e6dca12d3a\n",
      "Woo-hoo!\n"
     ]
    }
   ],
   "source": [
    "stream = exec_stream('./level0 423', stdin=True, stdout=True, password='level0')\n",
    "token = exec_in_stream(stream, 'cat /home/user/level1/.pass', title='Read .pass file')\n",
    "print_output(token, 'File content')\n",
    "print_title('Woo-hoo!')"
   ]
  },
  {
   "cell_type": "code",
   "execution_count": 10,
   "id": "142ca9db",
   "metadata": {},
   "outputs": [
    {
     "name": "stdout",
     "output_type": "stream",
     "text": [
      "Token to next level: 1fe8a524fa4bec01ca4ea2a869af2a02260d4a7d5fe7e7c24d8617e6dca12d3a\n"
     ]
    }
   ],
   "source": [
    "save_token(token)"
   ]
  },
  {
   "cell_type": "markdown",
   "id": "2470eb8d",
   "metadata": {},
   "source": [
    "# client.close()"
   ]
  }
 ],
 "metadata": {
  "kernelspec": {
   "display_name": "Python 3 (ipykernel)",
   "language": "python",
   "name": "python3"
  },
  "language_info": {
   "codemirror_mode": {
    "name": "ipython",
    "version": 3
   },
   "file_extension": ".py",
   "mimetype": "text/x-python",
   "name": "python",
   "nbconvert_exporter": "python",
   "pygments_lexer": "ipython3",
   "version": "3.9.6"
  }
 },
 "nbformat": 4,
 "nbformat_minor": 5
}